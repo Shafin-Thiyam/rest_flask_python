{
 "cells": [
  {
   "cell_type": "code",
   "execution_count": 10,
   "metadata": {},
   "outputs": [
    {
     "name": "stdout",
     "output_type": "stream",
     "text": [
      "input\\Adoption_Taxpayer_Identification_Number___Internal_Revenue_Service.xml\n",
      "input\\EITC,_Earned_Income_Tax_Credit,_Questions_and_Answers___Internal_Revenue_Service.xml\n",
      "input\\Questions_and_Answers_on_Reporting_of_Offers_of_Health_Insurance_Coverage_by_Employers_Section_6056___Internal_Revenue_Service.xml\n",
      "input\\Questions_and_Answers_on_the_Premium_Tax_Credit___Internal_Revenue_Service.xml\n"
     ]
    }
   ],
   "source": [
    "inputs=open(\"input.txt\").read()\n",
    "print(inputs)"
   ]
  },
  {
   "cell_type": "code",
   "execution_count": 4,
   "metadata": {},
   "outputs": [
    {
     "data": {
      "text/plain": [
       "'input\\\\EITC,_Earned_Income_Tax_Credit,_Questions_and_Answers___Internal_Revenue_Service.xml'"
      ]
     },
     "execution_count": 4,
     "metadata": {},
     "output_type": "execute_result"
    }
   ],
   "source": [
    "inputs.split(\"\\n\")[1]"
   ]
  },
  {
   "cell_type": "code",
   "execution_count": 5,
   "metadata": {},
   "outputs": [
    {
     "data": {
      "text/plain": [
       "'input\\\\Adoption_Taxpayer_Identification_Number___Internal_Revenue_Service.xml\\ninput\\\\EITC,_Earned_Income_Tax_Credit,_Questions_and_Answers___Internal_Revenue_Service.xml\\ninput\\\\Questions_and_Answers_on_Reporting_of_Offers_of_Health_Insurance_Coverage_by_Employers_Section_6056___Internal_Revenue_Service.xml\\ninput\\\\Questions_and_Answers_on_the_Premium_Tax_Credit___Internal_Revenue_Service.xml'"
      ]
     },
     "execution_count": 5,
     "metadata": {},
     "output_type": "execute_result"
    }
   ],
   "source": [
    "inputs"
   ]
  },
  {
   "cell_type": "code",
   "execution_count": 6,
   "metadata": {
    "collapsed": true
   },
   "outputs": [],
   "source": [
    "import itertools"
   ]
  },
  {
   "cell_type": "code",
   "execution_count": 7,
   "metadata": {},
   "outputs": [
    {
     "name": "stdout",
     "output_type": "stream",
     "text": [
      "('A', 'B', 'C', 'D')\n",
      "('A', 'B', 'D', 'C')\n",
      "('A', 'C', 'B', 'D')\n",
      "('A', 'C', 'D', 'B')\n",
      "('A', 'D', 'B', 'C')\n",
      "('A', 'D', 'C', 'B')\n",
      "('B', 'A', 'C', 'D')\n",
      "('B', 'A', 'D', 'C')\n",
      "('B', 'C', 'A', 'D')\n",
      "('B', 'C', 'D', 'A')\n",
      "('B', 'D', 'A', 'C')\n",
      "('B', 'D', 'C', 'A')\n",
      "('C', 'A', 'B', 'D')\n",
      "('C', 'A', 'D', 'B')\n",
      "('C', 'B', 'A', 'D')\n",
      "('C', 'B', 'D', 'A')\n",
      "('C', 'D', 'A', 'B')\n",
      "('C', 'D', 'B', 'A')\n",
      "('D', 'A', 'B', 'C')\n",
      "('D', 'A', 'C', 'B')\n",
      "('D', 'B', 'A', 'C')\n",
      "('D', 'B', 'C', 'A')\n",
      "('D', 'C', 'A', 'B')\n",
      "('D', 'C', 'B', 'A')\n"
     ]
    }
   ],
   "source": [
    "for p in itertools.permutations('ABCD'):\n",
    "    print(p)"
   ]
  },
  {
   "cell_type": "code",
   "execution_count": 8,
   "metadata": {
    "collapsed": true
   },
   "outputs": [],
   "source": [
    "lists=[22,32,334,2]"
   ]
  },
  {
   "cell_type": "code",
   "execution_count": 9,
   "metadata": {},
   "outputs": [
    {
     "data": {
      "text/plain": [
       "2"
      ]
     },
     "execution_count": 9,
     "metadata": {},
     "output_type": "execute_result"
    }
   ],
   "source": [
    "lists[-1]"
   ]
  },
  {
   "cell_type": "code",
   "execution_count": 13,
   "metadata": {},
   "outputs": [
    {
     "name": "stdout",
     "output_type": "stream",
     "text": [
      "Writing prime_sieve.py\n"
     ]
    }
   ],
   "source": [
    "%%writefile prime_sieve.py\n",
    "def Eratosthenes(upper_bound):\n",
    "    prime = [True] * upper_bound     \n",
    "    for p in range(3, upper_bound, 2):\n",
    "        if p > (upper_bound**.5):\n",
    "            break\n",
    "        if prime[p]==True:\n",
    "            for i in range(p * p, upper_bound, 2 * p):\n",
    "                prime[i] = False\n",
    "        return [2] + [p for p in range(3, upper_bound, 2) if    \n",
    "            prime[p]]"
   ]
  },
  {
   "cell_type": "code",
   "execution_count": 15,
   "metadata": {},
   "outputs": [
    {
     "name": "stdout",
     "output_type": "stream",
     "text": [
      "Overwriting my_flask_app.py\n"
     ]
    }
   ],
   "source": [
    "%%writefile my_flask_app.py \n",
    "from flask import Flask, Response, jsonify \n",
    "from flask_restplus import Api, Resource, fields, reqparse \n",
    "from flask_cors import CORS, cross_origin import os \n",
    "# the app \n",
    "app = Flask(__name__) \n",
    "CORS(app) \n",
    "api = Api(app, version='1.0', title='APIs for Python Functions', validate=False) ns = api.namespace('primality', 'Returns a list of all primes below a given upper bound') \n",
    "# load the algo \n",
    "from prime_sieve import Eratosthenes as algo \n",
    "''' We import our function `Erasosthenes` from the file prime_sieve.py. You create all the classes and functions that you want in that file, and import them into the app. ''' \n",
    "# model the input data \n",
    "model_input = api.model('Enter the upper bound:', { \"UPPER_BOUND\": fields.Integer(maximum=10e16)}) \n",
    "# the input data type here is Integer. You can change this to whatever works for your app. \n",
    "# On Bluemix, get the port number from the environment variable PORT # When running this app on the local machine, default to 8080 \n",
    "port = int(os.getenv('PORT', 8080)) \n",
    "# The ENDPOINT \n",
    "@ns.route('/sieve') \n",
    "# the endpoint \n",
    "class SIEVE(Resource): \n",
    "    @api.response(200, \"Success\", model_input)   \n",
    "    @api.expect(model_input)\n",
    "    def post(self):\n",
    "        parser = reqparse.RequestParser()\n",
    "        parser.add_argument('UPPER_BOUND', type=int)\n",
    "        args = parser.parse_args()\n",
    "        inp = int(args[\"UPPER_BOUND\"]) \n",
    "        result = algo(inp) \n",
    "        return jsonify({\"primes\": result}) \n",
    "# run if __name__ == '__main__': app.run(host='0.0.0.0', port=port, debug=False) # deploy with debug=False"
   ]
  },
  {
   "cell_type": "code",
   "execution_count": null,
   "metadata": {
    "collapsed": true
   },
   "outputs": [],
   "source": []
  }
 ],
 "metadata": {
  "kernelspec": {
   "display_name": "Python 3",
   "language": "python",
   "name": "python3"
  },
  "language_info": {
   "codemirror_mode": {
    "name": "ipython",
    "version": 3
   },
   "file_extension": ".py",
   "mimetype": "text/x-python",
   "name": "python",
   "nbconvert_exporter": "python",
   "pygments_lexer": "ipython3",
   "version": "3.6.1"
  }
 },
 "nbformat": 4,
 "nbformat_minor": 2
}
