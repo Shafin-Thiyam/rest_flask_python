{
 "cells": [
  {
   "cell_type": "code",
   "execution_count": null,
   "metadata": {},
   "outputs": [],
   "source": [
    "inputs=open(\"input.txt\").read()\n",
    "print(inputs)"
   ]
  },
  {
   "cell_type": "code",
   "execution_count": null,
   "metadata": {},
   "outputs": [],
   "source": [
    "inputs.split(\"\\n\")[1]"
   ]
  },
  {
   "cell_type": "code",
   "execution_count": null,
   "metadata": {},
   "outputs": [],
   "source": [
    "inputs"
   ]
  },
  {
   "cell_type": "code",
   "execution_count": null,
   "metadata": {},
   "outputs": [],
   "source": [
    "import itertools"
   ]
  },
  {
   "cell_type": "code",
   "execution_count": null,
   "metadata": {},
   "outputs": [],
   "source": [
    "for p in itertools.permutations('ABCD'):\n",
    "    print(p)"
   ]
  },
  {
   "cell_type": "code",
   "execution_count": null,
   "metadata": {},
   "outputs": [],
   "source": [
    "lists=[22,32,334,2]"
   ]
  },
  {
   "cell_type": "code",
   "execution_count": null,
   "metadata": {},
   "outputs": [],
   "source": [
    "lists[-1]"
   ]
  },
  {
   "cell_type": "code",
   "execution_count": null,
   "metadata": {},
   "outputs": [],
   "source": [
    "%%writefile prime_sieve.py\n",
    "def Eratosthenes(upper_bound):\n",
    "    prime = [True] * upper_bound     \n",
    "    for p in range(3, upper_bound, 2):\n",
    "        if p > (upper_bound**.5):\n",
    "            break\n",
    "        if prime[p]==True:\n",
    "            for i in range(p * p, upper_bound, 2 * p):\n",
    "                prime[i] = False\n",
    "        return [2] + [p for p in range(3, upper_bound, 2) if    \n",
    "            prime[p]]"
   ]
  },
  {
   "cell_type": "code",
   "execution_count": null,
   "metadata": {},
   "outputs": [],
   "source": [
    "%%writefile my_flask_app.py \n",
    "from flask import Flask, Response, jsonify \n",
    "from flask_restplus import Api, Resource, fields, reqparse \n",
    "from flask_cors import CORS, cross_origin import os \n",
    "# the app \n",
    "app = Flask(__name__) \n",
    "CORS(app) \n",
    "api = Api(app, version='1.0', title='APIs for Python Functions', validate=False) ns = api.namespace('primality', 'Returns a list of all primes below a given upper bound') \n",
    "# load the algo \n",
    "from prime_sieve import Eratosthenes as algo \n",
    "''' We import our function `Erasosthenes` from the file prime_sieve.py. You create all the classes and functions that you want in that file, and import them into the app. ''' \n",
    "# model the input data \n",
    "model_input = api.model('Enter the upper bound:', { \"UPPER_BOUND\": fields.Integer(maximum=10e16)}) \n",
    "# the input data type here is Integer. You can change this to whatever works for your app. \n",
    "# On Bluemix, get the port number from the environment variable PORT # When running this app on the local machine, default to 8080 \n",
    "port = int(os.getenv('PORT', 8080)) \n",
    "# The ENDPOINT \n",
    "@ns.route('/sieve') \n",
    "# the endpoint \n",
    "class SIEVE(Resource): \n",
    "    @api.response(200, \"Success\", model_input)   \n",
    "    @api.expect(model_input)\n",
    "    def post(self):\n",
    "        parser = reqparse.RequestParser()\n",
    "        parser.add_argument('UPPER_BOUND', type=int)\n",
    "        args = parser.parse_args()\n",
    "        inp = int(args[\"UPPER_BOUND\"]) \n",
    "        result = algo(inp) \n",
    "        return jsonify({\"primes\": result}) \n",
    "# run if __name__ == '__main__': app.run(host='0.0.0.0', port=port, debug=False) # deploy with debug=False"
   ]
  },
  {
   "cell_type": "code",
   "execution_count": null,
   "metadata": {},
   "outputs": [],
   "source": [
    "%%writefile transformer.py\n",
    "import os;\n",
    "\n",
    "__author__='Shafin Thiyam'\n",
    "class xml_processsing:\n",
    "    def __init__(self,xsl,input_xml):\n",
    "        self.xsl=xsl\n",
    "        self.input_xml=input_xml\n",
    "\n",
    "    def tranformation(self):\n",
    "        if self.input_xml.endswith('txt'):\n",
    "            input_list = open(self.input_xml).read().split(\"\\n\")\n",
    "            for i in input_list:\n",
    "                os.system(\"java net.sf.saxon.Transform -s:{0} -xsl:{1} -o:{2}_output.xml\".format(i,self.xsl,i.split('.')[0]))\n",
    "            #os.system(\"java net.sf.saxon.Transform -s:{0} -xsl:{1} -o:{2}_output.xml\".format(i,self.xsl,i.split('.')[0]) for i in input_list)\n",
    "\n",
    "        else:\n",
    "            os.system(\"java net.sf.saxon.Transform -s:{0} -xsl:{1} -o:{2}_output.xml\".format(self.input_xml,self.xsl,self.input_xml.split('.')[0]))\n",
    "\n"
   ]
  },
  {
   "cell_type": "code",
   "execution_count": 1,
   "metadata": {},
   "outputs": [],
   "source": [
    "import os;\n",
    "\n",
    "__author__='Shafin Thiyam'\n",
    "class xml_processsing:\n",
    "    def __init__(self,xsl,input_xml):\n",
    "        self.xsl=xsl\n",
    "        self.input_xml=input_xml\n",
    "\n",
    "    def tranformation(self):\n",
    "        if self.input_xml.endswith('txt'):\n",
    "            input_list = open(self.input_xml).read().split(\"\\n\")\n",
    "            for i in input_list:\n",
    "                os.system(\"java net.sf.saxon.Transform -s:{0} -xsl:{1} -o:{2}_output.xml\".format(i,self.xsl,i.split('.')[0]))\n",
    "            #os.system(\"java net.sf.saxon.Transform -s:{0} -xsl:{1} -o:{2}_output.xml\".format(i,self.xsl,i.split('.')[0]) for i in input_list)\n",
    "\n",
    "        else:\n",
    "            os.system(\"java net.sf.saxon.Transform -s:{0} -xsl:{1} -o:{2}_output.xml\".format(self.input_xml,self.xsl,self.input_xml.split('.')[0]))\n",
    "\n"
   ]
  },
  {
   "cell_type": "code",
   "execution_count": 2,
   "metadata": {},
   "outputs": [],
   "source": [
    "from flask import Flask, jsonify, request, render_template\n",
    "import xml2xml\n",
    "\n",
    "app=Flask(__name__)\n",
    "\n",
    "@app.route(\"/\")# for example www.google.com/ it represent the '/'\n",
    "def Home():\n",
    "    print(\"Hello\")\n",
    "\n",
    "\n",
    "@app.route(\"/xmltransformer/<string:inputs>\")\n",
    "def get_xml(inputs):\n",
    "    xm2xm=xml2xml.xml_processsing('test.xsl',inputs)\n",
    "    xm2xm.tranformation()\n",
    "    return 0"
   ]
  },
  {
   "cell_type": "code",
   "execution_count": 3,
   "metadata": {},
   "outputs": [
    {
     "name": "stderr",
     "output_type": "stream",
     "text": [
      " * Running on http://127.0.0.1:5000/ (Press CTRL+C to quit)\n"
     ]
    }
   ],
   "source": [
    "app.run(port=5000)"
   ]
  },
  {
   "cell_type": "code",
   "execution_count": null,
   "metadata": {},
   "outputs": [],
   "source": []
  }
 ],
 "metadata": {
  "kernelspec": {
   "display_name": "Python 3",
   "language": "python",
   "name": "python3"
  },
  "language_info": {
   "codemirror_mode": {
    "name": "ipython",
    "version": 3
   },
   "file_extension": ".py",
   "mimetype": "text/x-python",
   "name": "python",
   "nbconvert_exporter": "python",
   "pygments_lexer": "ipython3",
   "version": "3.6.4"
  }
 },
 "nbformat": 4,
 "nbformat_minor": 2
}
